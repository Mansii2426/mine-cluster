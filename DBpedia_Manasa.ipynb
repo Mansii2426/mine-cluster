{
 "cells": [
  {
   "cell_type": "code",
   "execution_count": 13,
   "metadata": {},
   "outputs": [],
   "source": [
    "import pandas as pd\n",
    "import numpy as np\n",
    "from pyspark import SparkContext\n",
    "#Imports for Maps\n",
    "import folium\n",
    "from folium.plugins import MarkerCluster\n",
    "#Helps to find Country names \n",
    "from geopy.geocoders import Nominatim\n",
    "from geopy.extra.rate_limiter import RateLimiter"
   ]
  },
  {
   "cell_type": "code",
   "execution_count": 14,
   "metadata": {},
   "outputs": [],
   "source": [
    "#Loading data from S3 bucket\n",
    "lat_longs = sqlContext.read.option('delimiter', ' ').option('header','false').csv('s3://devicestatus1/lat_longs.txt')"
   ]
  },
  {
   "cell_type": "code",
   "execution_count": 15,
   "metadata": {},
   "outputs": [
    {
     "data": {
      "text/plain": [
       "[Row(_c0='36.7', _c1='3.216666666666667', _c2='<http://dbpedia.org/resource/Algeria>'),\n",
       " Row(_c0='42.5', _c1='1.5166666666666666', _c2='<http://dbpedia.org/resource/Andorra>'),\n",
       " Row(_c0='12.516666666666667', _c1='-70.03333333333333', _c2='<http://dbpedia.org/resource/Aruba>'),\n",
       " Row(_c0='-8.833333333333334', _c1='13.333333333333334', _c2='<http://dbpedia.org/resource/Angola>'),\n",
       " Row(_c0='41.333333333333336', _c1='19.8', _c2='<http://dbpedia.org/resource/Albania>')]"
      ]
     },
     "execution_count": 15,
     "metadata": {},
     "output_type": "execute_result"
    }
   ],
   "source": [
    "#Displaying the data\n",
    "lat_longs.head(5)"
   ]
  },
  {
   "cell_type": "code",
   "execution_count": 16,
   "metadata": {},
   "outputs": [],
   "source": [
    "#Changing the column names\n",
    "lat_longs = lat_longs.withColumnRenamed(\"_c0\",\"lat\").withColumnRenamed(\"_c1\",\"long\").withColumnRenamed(\"_c2\",\"name_of_page\")"
   ]
  },
  {
   "cell_type": "code",
   "execution_count": 17,
   "metadata": {},
   "outputs": [
    {
     "data": {
      "text/plain": [
       "[Row(lat='36.7', long='3.216666666666667', name_of_page='<http://dbpedia.org/resource/Algeria>'),\n",
       " Row(lat='42.5', long='1.5166666666666666', name_of_page='<http://dbpedia.org/resource/Andorra>'),\n",
       " Row(lat='12.516666666666667', long='-70.03333333333333', name_of_page='<http://dbpedia.org/resource/Aruba>'),\n",
       " Row(lat='-8.833333333333334', long='13.333333333333334', name_of_page='<http://dbpedia.org/resource/Angola>'),\n",
       " Row(lat='41.333333333333336', long='19.8', name_of_page='<http://dbpedia.org/resource/Albania>')]"
      ]
     },
     "execution_count": 17,
     "metadata": {},
     "output_type": "execute_result"
    }
   ],
   "source": [
    "#Displaying the Data Frame with new column names\n",
    "lat_longs.head(5)"
   ]
  },
  {
   "cell_type": "code",
   "execution_count": 18,
   "metadata": {},
   "outputs": [
    {
     "name": "stderr",
     "output_type": "stream",
     "text": [
      "                                                                                \r"
     ]
    }
   ],
   "source": [
    "#Creating a pandas data frame from spark data frame\n",
    "pandas_df = lat_longs.select(\"*\").toPandas()"
   ]
  },
  {
   "cell_type": "code",
   "execution_count": 19,
   "metadata": {},
   "outputs": [
    {
     "data": {
      "text/html": [
       "<div>\n",
       "<style scoped>\n",
       "    .dataframe tbody tr th:only-of-type {\n",
       "        vertical-align: middle;\n",
       "    }\n",
       "\n",
       "    .dataframe tbody tr th {\n",
       "        vertical-align: top;\n",
       "    }\n",
       "\n",
       "    .dataframe thead th {\n",
       "        text-align: right;\n",
       "    }\n",
       "</style>\n",
       "<table border=\"1\" class=\"dataframe\">\n",
       "  <thead>\n",
       "    <tr style=\"text-align: right;\">\n",
       "      <th></th>\n",
       "      <th>lat</th>\n",
       "      <th>long</th>\n",
       "      <th>name_of_page</th>\n",
       "    </tr>\n",
       "  </thead>\n",
       "  <tbody>\n",
       "    <tr>\n",
       "      <th>0</th>\n",
       "      <td>36.7</td>\n",
       "      <td>3.216666666666667</td>\n",
       "      <td>&lt;http://dbpedia.org/resource/Algeria&gt;</td>\n",
       "    </tr>\n",
       "    <tr>\n",
       "      <th>1</th>\n",
       "      <td>42.5</td>\n",
       "      <td>1.5166666666666666</td>\n",
       "      <td>&lt;http://dbpedia.org/resource/Andorra&gt;</td>\n",
       "    </tr>\n",
       "    <tr>\n",
       "      <th>2</th>\n",
       "      <td>12.516666666666667</td>\n",
       "      <td>-70.03333333333333</td>\n",
       "      <td>&lt;http://dbpedia.org/resource/Aruba&gt;</td>\n",
       "    </tr>\n",
       "    <tr>\n",
       "      <th>3</th>\n",
       "      <td>-8.833333333333334</td>\n",
       "      <td>13.333333333333334</td>\n",
       "      <td>&lt;http://dbpedia.org/resource/Angola&gt;</td>\n",
       "    </tr>\n",
       "    <tr>\n",
       "      <th>4</th>\n",
       "      <td>41.333333333333336</td>\n",
       "      <td>19.8</td>\n",
       "      <td>&lt;http://dbpedia.org/resource/Albania&gt;</td>\n",
       "    </tr>\n",
       "  </tbody>\n",
       "</table>\n",
       "</div>"
      ],
      "text/plain": [
       "                  lat                long  \\\n",
       "0                36.7   3.216666666666667   \n",
       "1                42.5  1.5166666666666666   \n",
       "2  12.516666666666667  -70.03333333333333   \n",
       "3  -8.833333333333334  13.333333333333334   \n",
       "4  41.333333333333336                19.8   \n",
       "\n",
       "                            name_of_page  \n",
       "0  <http://dbpedia.org/resource/Algeria>  \n",
       "1  <http://dbpedia.org/resource/Andorra>  \n",
       "2    <http://dbpedia.org/resource/Aruba>  \n",
       "3   <http://dbpedia.org/resource/Angola>  \n",
       "4  <http://dbpedia.org/resource/Albania>  "
      ]
     },
     "execution_count": 19,
     "metadata": {},
     "output_type": "execute_result"
    }
   ],
   "source": [
    "#Showing pandas data frame\n",
    "pandas_df.head()"
   ]
  },
  {
   "cell_type": "code",
   "execution_count": 20,
   "metadata": {},
   "outputs": [],
   "source": [
    "#Dropping rows with zero values\n",
    "columns = ['lat', 'long']\n",
    "pandas_df = pandas_df.replace(0, np.nan).dropna(axis=0, how='any', subset=columns).fillna(0)"
   ]
  },
  {
   "cell_type": "code",
   "execution_count": 21,
   "metadata": {},
   "outputs": [],
   "source": [
    "#creating an empty map\n",
    "world_map= folium.Map(tiles=\"cartodbpositron\")\n",
    "#Adding the Empty map to marker cluster\n",
    "marker_cluster = MarkerCluster().add_to(world_map)"
   ]
  },
  {
   "cell_type": "code",
   "execution_count": 22,
   "metadata": {},
   "outputs": [],
   "source": [
    "#Passing the Latitude and Longitude information to Folium lib by iterating and addting the results to marker cluster\n",
    "lat_x = pandas_df['lat'].tolist()\n",
    "lon_y = pandas_df['long'].tolist()\n",
    "for i in range(len(lat_x)):\n",
    "    radius=5\n",
    "    folium.CircleMarker(location = [lat_x[i], lon_y[i]], radius=radius, fill =True).add_to(marker_cluster)"
   ]
  },
  {
   "cell_type": "code",
   "execution_count": null,
   "metadata": {},
   "outputs": [],
   "source": [
    "#Printing the plotted latitude and logitude information on map\n",
    "world_map"
   ]
  }
 ],
 "metadata": {
  "kernelspec": {
   "display_name": "Python 3",
   "language": "python",
   "name": "python3"
  },
  "language_info": {
   "codemirror_mode": {
    "name": "ipython",
    "version": 3
   },
   "file_extension": ".py",
   "mimetype": "text/x-python",
   "name": "python",
   "nbconvert_exporter": "python",
   "pygments_lexer": "ipython3",
   "version": "3.9.1"
  }
 },
 "nbformat": 4,
 "nbformat_minor": 4
}
